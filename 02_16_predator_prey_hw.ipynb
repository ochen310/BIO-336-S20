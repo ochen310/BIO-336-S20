{
 "cells": [
  {
   "cell_type": "code",
   "execution_count": 2,
   "metadata": {},
   "outputs": [],
   "source": [
    "import numpy as np\n",
    "import matplotlib.pyplot as plt"
   ]
  },
  {
   "cell_type": "code",
   "execution_count": 22,
   "metadata": {
    "scrolled": true
   },
   "outputs": [
    {
     "name": "stderr",
     "output_type": "stream",
     "text": [
      "C:\\ProgramData\\Anaconda3\\lib\\site-packages\\ipykernel_launcher.py:25: RuntimeWarning: overflow encountered in double_scalars\n",
      "C:\\ProgramData\\Anaconda3\\lib\\site-packages\\ipykernel_launcher.py:26: RuntimeWarning: overflow encountered in double_scalars\n",
      "C:\\ProgramData\\Anaconda3\\lib\\site-packages\\ipykernel_launcher.py:25: RuntimeWarning: invalid value encountered in double_scalars\n",
      "C:\\ProgramData\\Anaconda3\\lib\\site-packages\\ipykernel_launcher.py:26: RuntimeWarning: invalid value encountered in double_scalars\n"
     ]
    },
    {
     "data": {
      "image/png": "[encoded data removed]",
      "text/plain": [
       "<Figure size 1152x360 with 1 Axes>"
      ]
     },
     "metadata": {
      "needs_background": "light"
     },
     "output_type": "display_data"
    }
   ],
   "source": [
    "nsteps = 20000\n",
    "a = 0.6\n",
    "b = 1.2\n",
    "c = 0.5\n",
    "d = 1\n",
    "dt = 0.5\n",
    "\n",
    "possible_pl = [1,2,3,4] # number of places\n",
    "possible_ds = [0.5, 1, 1.5, 2]\n",
    "\n",
    "x = np.zeros(nsteps)\n",
    "y = np.zeros(nsteps)\n",
    "\n",
    "fig = plt.figure(figsize=(16,5));\n",
    "\n",
    "for itrial in range(len(possible_pl)):\n",
    "        df = possible_pl[itrial]\n",
    "        x[0] = 1\n",
    "        y[0] = 1 \n",
    "        \n",
    "        for itrial in range(len(possible_ds)):\n",
    "            d = possible_ds[itrial]\n",
    "        \n",
    "        for t in range(1,nsteps):\n",
    "            x[t] = x[t-1] + dt*(a*x[t-1] - b*x[t-1]*y[t-1])*(x[t-1]+y[t-1]/df)\n",
    "            y[t] = y[t-1] + dt*(c*x[t-1]*y[t-1] - d*y[t-1])*(1+(x[t-1]+y[t-1])/df)\n",
    " \n",
    "ax = fig.add_subplot(1,len(possible_pl),itrial+1)\n",
    "ax.plot(x, label='Bunnies');\n",
    "ax.plot(y, label='Foxes');\n",
    "ax.legend(loc='upper right');\n"
   ]
  },
  {
   "cell_type": "markdown",
   "metadata": {},
   "source": [
    "In this model I attempted to simulate the effect on deforestation on the population sizes of foxes and rabbits in an area. \n",
    "I tried to incorporate our formula for the probability of animals meeting from class into the loop as another term. \n",
    "I created a range of possible values for pl, the number of places, and kept all other parameters the same. I had trouble expressing how deforestion affects fox populations in the model.\n",
    "\n"
   ]
  }
 ],
 "metadata": {
  "kernelspec": {
   "display_name": "Python 3",
   "language": "python",
   "name": "python3"
  },
  "language_info": {
   "codemirror_mode": {
    "name": "ipython",
    "version": 3
   },
   "file_extension": ".py",
   "mimetype": "text/x-python",
   "name": "python",
   "nbconvert_exporter": "python",
   "pygments_lexer": "ipython3",
   "version": "3.7.4"
  }
 },
 "nbformat": 4,
 "nbformat_minor": 2
}
