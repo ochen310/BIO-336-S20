{
 "cells": [
  {
   "cell_type": "code",
   "execution_count": 2,
   "metadata": {},
   "outputs": [],
   "source": [
    "import numpy as np\n",
    "import matplotlib.pyplot as plt"
   ]
  },
  {
   "cell_type": "code",
   "execution_count": 42,
   "metadata": {
    "scrolled": true
   },
   "outputs": [
    {
     "ename": "SyntaxError",
     "evalue": "invalid syntax (<ipython-input-42-f27761909815>, line 26)",
     "output_type": "error",
     "traceback": [
      "\u001b[1;36m  File \u001b[1;32m\"<ipython-input-42-f27761909815>\"\u001b[1;36m, line \u001b[1;32m26\u001b[0m\n\u001b[1;33m    ax1 = fig1.add_subplot(1,len(possible_pl),itrial+1);\u001b[0m\n\u001b[1;37m      ^\u001b[0m\n\u001b[1;31mSyntaxError\u001b[0m\u001b[1;31m:\u001b[0m invalid syntax\n"
     ]
    }
   ],
   "source": [
    "nsteps = 10000\n",
    "a = 0.6\n",
    "b = 1.2\n",
    "c = 0.5\n",
    "d = 1\n",
    "dt = 0.5\n",
    "\n",
    "possible_pl = [10,20,30,40] # number of places\n",
    "\n",
    "x = np.zeros(nsteps)\n",
    "y = np.zeros(nsteps)\n",
    "\n",
    "fig1 = plt.figure(figsize=(12,5));\n",
    "fig2 = plt.figure(figsize=(5,5));\n",
    "ax2 = plt.axes()\n",
    "    \n",
    "for itrial in range(len(possible_pl)):\n",
    "    df = possible_pl[itrial]\n",
    "    x[0] = 1\n",
    "    y[0] = 1\n",
    "\n",
    "    for t in range(1,nsteps):\n",
    "        x[t] = x[t-1] + dt*(a*x[t-1] - b*x[t-1]*y[t-1])*(x[t-1]+y[t-1]/pl)\n",
    "        y[t] = y[t-1] + dt*(c*x[t-1]*y[t-1] - d*y[t-1])*(((x[t-1]+y[t-1])/pl)*2 \n",
    " \n",
    "    ax1 = fig1.add_subplot(1,len(possible_pl),itrial+1);\n",
    "    ax1.plot(x, label='Bunnies');\n",
    "    ax1.plot(y, label='Foxes');\n",
    "    ax1.legend(loc='upper right');\n",
    "    \n",
    "    ax2.plot(x,y,label=pl);\n",
    "    plt.xlabel('Bunnies');\n",
    "    plt.ylabel('Foxes');\n",
    "\n",
    "ax2.legend(loc='upper right');\n",
    "\n",
    "   "
   ]
  },
  {
   "cell_type": "markdown",
   "metadata": {},
   "source": [
    "In this model I attempted to simulate the effect on deforestation on the population sizes of foxes and rabbits in an area. \n",
    "I tried to incorporate our formula for the probability of animals meeting from class into the loop as another term. \n",
    "I created a range of possible values for pl, the number of places, and kept all other variables the same. I had trouble expressing how \n",
    "\n"
   ]
  }
 ],
 "metadata": {
  "kernelspec": {
   "display_name": "Python 3",
   "language": "python",
   "name": "python3"
  },
  "language_info": {
   "codemirror_mode": {
    "name": "ipython",
    "version": 3
   },
   "file_extension": ".py",
   "mimetype": "text/x-python",
   "name": "python",
   "nbconvert_exporter": "python",
   "pygments_lexer": "ipython3",
   "version": "3.7.4"
  }
 },
 "nbformat": 4,
 "nbformat_minor": 2
}
