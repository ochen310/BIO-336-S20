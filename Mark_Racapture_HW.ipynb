{
 "cells": [
  {
   "cell_type": "markdown",
   "metadata": {},
   "source": [
    "### 1) Modify our \"Mark and recapture\" model to make it produce the average expectation for the number of animals.\n",
    "### 2) Once you can make nice curves of expected estimations, use this tool to answer the following question: is it better to place your trap on the border of your area, or in the center?  \n",
    "### 3) After you are done with that, modify the model once again by introducing birth / death (aka immigration / emigration)."
   ]
  },
  {
   "cell_type": "code",
   "execution_count": 1,
   "metadata": {},
   "outputs": [],
   "source": [
    "import numpy as np\n",
    "import matplotlib.pyplot as plt\n",
    "import time"
   ]
  },
  {
   "cell_type": "code",
   "execution_count": 6,
   "metadata": {},
   "outputs": [
    {
     "ename": "SyntaxError",
     "evalue": "invalid syntax (<ipython-input-6-db458cc6dea3>, line 19)",
     "output_type": "error",
     "traceback": [
      "\u001b[1;36m  File \u001b[1;32m\"<ipython-input-6-db458cc6dea3>\"\u001b[1;36m, line \u001b[1;32m19\u001b[0m\n\u001b[1;33m    history = np.zeros((n_steps,n_trials))\u001b[0m\n\u001b[1;37m          ^\u001b[0m\n\u001b[1;31mSyntaxError\u001b[0m\u001b[1;31m:\u001b[0m invalid syntax\n"
     ]
    }
   ],
   "source": [
    "%matplotlib notebook\n",
    "\n",
    "n_animals = 100\n",
    "n_steps = 10\n",
    "n_trials = 10\n",
    "vmin=0.01\n",
    "vmax=0.05\n",
    "trap1 = 0.2\n",
    "\n",
    "x = np.random.uniform(size=n_animals)\n",
    "y = np.random.uniform(size=n_animals)\n",
    "vx = np.random.uniform(low=vmin,high=vmax,size=n_animals)*(2*np.random.randint(low=0,high=2,size=n_animals)-1)\n",
    "vy = np.random.uniform(low=vmin,high=vmax,size=n_animals)*(2*np.random.randint(low=0,high=2,size=n_animals)-1)\n",
    "color = np.where(np.logical_and(x<trap1,y<trap1),1,0)\n",
    "n_marked = np.sum(color)\n",
    "n_marked = np.sum(color)\n",
    "estimation = np.zeros(n_steps)\n",
    "estimation_history = np.zeros(shape=(n_steps,n_trials)\n",
    "history = np.zeros((n_steps,n_trials))\n",
    "\n",
    "for i_trials in range(n_trials):\n",
    "    for i in range(n_steps): \n",
    "        x += vx\n",
    "        y += vy\n",
    "\n",
    "        vx = np.where(np.logical_or(x>1,x<0), -vx, vx)\n",
    "        vy = np.where(np.logical_or(y>1,y<0), -vy, vy)\n",
    "      \n",
    "        n_recap_total = np.sum(np.logical_and(x<trap_size, y<trap_size))\n",
    "        n_recap_marked = np.sum(np.logical_and(x<trap_size, y<trap_size)*color)\n",
    "            \n",
    "        estimation[i] = (n_marked+1)/(n_recap_marked+1)*(n_recap_total+1)-1\n",
    "                              \n",
    "    average = np.average(estimation_history,axis=None,weights=None,returned=False)\n",
    "        \n",
    "    history[:,i_trials] = estimation\n",
    "        return history\n",
    "                              \n",
    "plt.figure();\n",
    "plt.plot(np.mean(history))"
   ]
  },
  {
   "cell_type": "code",
   "execution_count": 4,
   "metadata": {},
   "outputs": [
    {
     "ename": "SyntaxError",
     "evalue": "invalid syntax (<ipython-input-4-738f43472abc>, line 24)",
     "output_type": "error",
     "traceback": [
      "\u001b[1;36m  File \u001b[1;32m\"<ipython-input-4-738f43472abc>\"\u001b[1;36m, line \u001b[1;32m24\u001b[0m\n\u001b[1;33m    for j in range(n_trials):\u001b[0m\n\u001b[1;37m      ^\u001b[0m\n\u001b[1;31mSyntaxError\u001b[0m\u001b[1;31m:\u001b[0m invalid syntax\n"
     ]
    }
   ],
   "source": [
    "%matplotlib notebook\n",
    "\n",
    "n_animals = 100\n",
    "n_steps = 10\n",
    "n_trials = 10\n",
    "vmin=0.01\n",
    "vmax=0.05\n",
    "trap1 = 0.2\n",
    "trap2 = np.where(0.4<x<0.6,0.4<y<0.6,1,0)\n",
    "\n",
    "x = np.random.uniform(size=n_animals)\n",
    "y = np.random.uniform(size=n_animals)\n",
    "vx = np.random.uniform(low=vmin,high=vmax,size=n_animals)*(2*np.random.randint(low=0,high=2,size=n_animals)-1)\n",
    "vy = np.random.uniform(low=vmin,high=vmax,size=n_animals)*(2*np.random.randint(low=0,high=2,size=n_animals)-1)\n",
    "color1 = np.where(np.logical_and(x<trap1,y<trap1),1,0)\n",
    "n_marked1 = np.sum(color1)\n",
    "n_marked1 = np.sum(color1)\n",
    "color2 = np.where(np.logical_and(x<trap2,y<trap2),1,0)\n",
    "n_marked2 = np.sum(color2)\n",
    "n_marked2 = np.sum(color2)\n",
    "estimation = np.zeros(n_steps)\n",
    "estimation_history = np.zeros(shape=(n_steps,n_trials)\n",
    "\n",
    "for j in range(n_trials):\n",
    "    for i in range(n_steps): \n",
    "        x += vx\n",
    "        y += vy\n",
    "\n",
    "        vx = np.where(np.logical_or(x>1,x<0), -vx, vx)\n",
    "        vy = np.where(np.logical_or(y>1,y<0), -vy, vy)\n",
    "      \n",
    "        n_recap_total1 = np.sum(np.logical_and(x<trap1, y<trap1))\n",
    "        n_recap_marked1 = np.sum(np.logical_and(x<trap1, y<trap1)*color)\n",
    "        \n",
    "        n_recap_total2 = np.sum(np.logical_and(x<trap2, y<trap2))\n",
    "        n_recap_marked2 = np.sum(np.logical_and(x<trap2, y<trap2)*color)\n",
    "            \n",
    "        estimation1[i] = (n_marked1+1)/(n_recap_marked1+1)*(n_recap_total1+1)-1\n",
    "        estimation_history1[i] = estimation1[i]\n",
    "                              \n",
    "        estimation2[i] = (n_marked2+1)/(n_recap_marked2+1)*(n_recap_total2+1)-1\n",
    "        estimation_history2[i] = estimation2[i]\n",
    "                              \n",
    "    average1 = np.average(estimation_history1,axis=None,weights=None,returned=False)\n",
    "    average2 = np.average(estimation_history2,axis=None,weights=None,returned=False)\n",
    "        \n",
    "plt.figure();\n",
    "plt.plot(average)"
   ]
  },
  {
   "cell_type": "code",
   "execution_count": null,
   "metadata": {},
   "outputs": [],
   "source": []
  }
 ],
 "metadata": {
  "kernelspec": {
   "display_name": "Python 3",
   "language": "python",
   "name": "python3"
  },
  "language_info": {
   "codemirror_mode": {
    "name": "ipython",
    "version": 3
   },
   "file_extension": ".py",
   "mimetype": "text/x-python",
   "name": "python",
   "nbconvert_exporter": "python",
   "pygments_lexer": "ipython3",
   "version": "3.7.4"
  }
 },
 "nbformat": 4,
 "nbformat_minor": 2
}
