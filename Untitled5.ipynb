{
 "cells": [
  {
   "cell_type": "markdown",
   "metadata": {},
   "source": [
    "For the disease propagation model there would be one infected individual to start with and at each step, at each time step any individuals that are connected to an infected person would also be infected. I randomized the number of edges in the network to take into account the possibility of isolated individuals or groups. The number of infected individuals could be identfied from healthy individuals by assigning them a different color. Here's some peusdocode for it:\n",
    "\n",
    "n_nodes = 100\n",
    "n_edges = np.random.randn(n_edges)\n",
    "n_trials = 1000\n",
    "\n",
    "for i in range(n_nodes):\n",
    "        add.node(i)\n",
    "        \n",
    "for t in range (n_edges):\n",
    "    n1 = np.random.randint(low = 0, high = n_nodes)\n",
    "    n2 = np.random.randint(low = 0, high = n_nodes)\n",
    "    if n1!=n2:\n",
    "        add_edge(n1,n2)\n",
    "        edges.append((n1,n2))\n",
    "\n",
    "for i in range(n_people):\n",
    "    infected = np.zeros(n_people)\n",
    "    infected[0] = 1\n",
    "    if n2 is infected:\n",
    "        infected[n1] = 1\n",
    "    if n1 is infected:\n",
    "        infected[n2] = 1\n",
    "\n"
   ]
  }
 ],
 "metadata": {
  "kernelspec": {
   "display_name": "Python 3",
   "language": "python",
   "name": "python3"
  },
  "language_info": {
   "codemirror_mode": {
    "name": "ipython",
    "version": 3
   },
   "file_extension": ".py",
   "mimetype": "text/x-python",
   "name": "python",
   "nbconvert_exporter": "python",
   "pygments_lexer": "ipython3",
   "version": "3.7.4"
  }
 },
 "nbformat": 4,
 "nbformat_minor": 2
}
