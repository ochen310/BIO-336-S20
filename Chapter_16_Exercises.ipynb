{
 "cells": [
  {
   "cell_type": "code",
   "execution_count": 23,
   "metadata": {},
   "outputs": [],
   "source": [
    "import datetime\n",
    "import time\n",
    "import datetime"
   ]
  },
  {
   "cell_type": "markdown",
   "metadata": {},
   "source": [
    "#### Exercise16.1. Write a function called mul_time that takes a Time object and a number and returns a new Time object that contains the product of the original Time and the number. \n",
    "\n",
    "#### Then use mul_time to write a function that takes a Time object that represents the ﬁnishing time in a race, and a number that represents the distance, and returns a Time object that represents the average pace (time per mile). "
   ]
  },
  {
   "cell_type": "code",
   "execution_count": 15,
   "metadata": {},
   "outputs": [],
   "source": [
    "class Time: \n",
    "    time.hour = 4\n",
    "    time.minute =30 \n",
    "    time.second = 5\n",
    "\n",
    "def mul_time():\n",
    "    tpm = time\n",
    "    distance = 5\n",
    "    tpm.hour = time.hour/distance \n",
    "    tpm.minute = time.minute/distance \n",
    "    tpm.second = time.second/distance\n",
    "    \n",
    "    if tpm.second >= 60: \n",
    "        tpm.second -= 60 \n",
    "        tpm.minute += 1\n",
    "        \n",
    "    if tpm.minute >= 60: \n",
    "        tpm.minute -= 60 \n",
    "        tpm.hour += 1\n",
    "        \n",
    "    print('%.2d:%.2d:%.2d' % (tpm.hour, tpm.minute, tpm.second))\n"
   ]
  },
  {
   "cell_type": "markdown",
   "metadata": {},
   "source": [
    "#### Exercise 16.2. The datetime module provides time objects that are similar to the Time objects in this chapter, but they provide a rich set of methods and operators. Read the documentation at http://docs.python.org/3/library/datetime.html.\n",
    "1. Use the datetime module to write a program that gets the current date and prints the day of the week. \n",
    "2. Write a program that takes a birthday as input and prints the user’s age and the number of days, hours, minutes and seconds until their next birthday. \n",
    "3. For two people born on different days, there is a day when one is twice as old as the other. That’s their Double Day. Write a program that takes two birth dates and computes their Double Day. \n",
    "4. For a little more challenge, write the more general version that computes the day when one person is n times older than the other."
   ]
  },
  {
   "cell_type": "code",
   "execution_count": 36,
   "metadata": {},
   "outputs": [
    {
     "name": "stdout",
     "output_type": "stream",
     "text": [
      "2020-03-24\n"
     ]
    }
   ],
   "source": [
    "class Date:\n",
    "    date = datetime.date(1,1,1)\n",
    "    today = date.today()\n",
    "    print(today)\n",
    "    \n",
    "def days_until_birthday(birthday):\n",
    "    for i in date:\n",
    "        age = date.year[i+1]-date.year[i]\n",
    "    print(age)\n",
    "\n",
    "    birthday = date\n",
    "    next_birthday = datetime(today.year, birthday.month, birthday.day)\n",
    "\n",
    "    if today > next_birthday:\n",
    "            next_birthday = datetime(today.year+1, birthday.month, birthday.day)\n",
    "\n",
    "    countdown = next_birthday - today\n",
    "    return countdown\n",
    "\n",
    "def double_day(birthday1, birthday2):\n",
    "    assert birthday1 > birthday2\n",
    "    diff = birthday1 - birthday2\n",
    "    dd = birthday1 + diff\n",
    "    return dd"
   ]
  }
 ],
 "metadata": {
  "kernelspec": {
   "display_name": "Python 3",
   "language": "python",
   "name": "python3"
  },
  "language_info": {
   "codemirror_mode": {
    "name": "ipython",
    "version": 3
   },
   "file_extension": ".py",
   "mimetype": "text/x-python",
   "name": "python",
   "nbconvert_exporter": "python",
   "pygments_lexer": "ipython3",
   "version": "3.7.4"
  }
 },
 "nbformat": 4,
 "nbformat_minor": 2
}
