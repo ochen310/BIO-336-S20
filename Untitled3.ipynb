{
 "cells": [
  {
   "cell_type": "code",
   "execution_count": 36,
   "metadata": {},
   "outputs": [
    {
     "ename": "ModuleNotFoundError",
     "evalue": "No module named 'polygon'",
     "output_type": "error",
     "traceback": [
      "\u001b[1;31m---------------------------------------------------------------------------\u001b[0m",
      "\u001b[1;31mModuleNotFoundError\u001b[0m                       Traceback (most recent call last)",
      "\u001b[1;32m<ipython-input-36-2694a2514910>\u001b[0m in \u001b[0;36m<module>\u001b[1;34m\u001b[0m\n\u001b[0;32m      2\u001b[0m \u001b[1;32mimport\u001b[0m \u001b[0mcopy\u001b[0m\u001b[1;33m\u001b[0m\u001b[1;33m\u001b[0m\u001b[0m\n\u001b[0;32m      3\u001b[0m \u001b[1;32mimport\u001b[0m \u001b[0mturtle\u001b[0m\u001b[1;33m\u001b[0m\u001b[1;33m\u001b[0m\u001b[0m\n\u001b[1;32m----> 4\u001b[1;33m \u001b[1;32mimport\u001b[0m \u001b[0mpolygon\u001b[0m\u001b[1;33m\u001b[0m\u001b[1;33m\u001b[0m\u001b[0m\n\u001b[0m",
      "\u001b[1;31mModuleNotFoundError\u001b[0m: No module named 'polygon'"
     ]
    }
   ],
   "source": [
    "import matplotlib.pyplot as plt\n",
    "import copy\n",
    "import turtle\n",
    "import polygon"
   ]
  },
  {
   "cell_type": "markdown",
   "metadata": {},
   "source": [
    "#### Exercise 15.1:\n",
    "#### Write a deﬁnition for a class named Circle with attributes center and radius, where center is a Point object and radius is a number.\n",
    "#### Instantiate a Circle object that represents a circle with its center at (150,100) and radius 75. \n",
    "#### Write a function named point_in_circle that takes a Circle and a Point and returns True if the Point lies in or on the boundary of the circle. \n",
    "#### Write a function named rect_in_circle that takes a Circle and a Rectangle and returns True if the Rectangle lies entirely in or on the boundary of the circle. \n",
    "#### Write a function named rect_circle_overlap that takes a Circle and a Rectangle and returns True if any of the corners of the Rectangle fall inside the circle. Or as a more challenging version, return True if any part of the Rectangle falls inside the circle. "
   ]
  },
  {
   "cell_type": "code",
   "execution_count": 29,
   "metadata": {},
   "outputs": [],
   "source": [
    "class Point:\n",
    "    def __init__(p):\n",
    "        p.x = 0.0\n",
    "        p.y = 0.0\n",
    "    \n",
    "class Circle:\n",
    "      def __init__(c):\n",
    "        c.center = Point()\n",
    "        c.center.x = 150.0\n",
    "        c.center.y = 100.0\n",
    "        c.radius = 75\n",
    "        \n",
    "class Rectangle:\n",
    "      def __init__(r):\n",
    "            r.width = 100.0 \n",
    "            r.height = 200.0\n",
    "            r.corner = Point() \n",
    "            r.corner.x = 0.0 \n",
    "            r.corner.y = 0.0 "
   ]
  },
  {
   "cell_type": "code",
   "execution_count": 30,
   "metadata": {},
   "outputs": [],
   "source": [
    "def point_in_circle(c): \n",
    "    p = Point()\n",
    "    d = distance_between_points(p, c.center)\n",
    "    print(d) \n",
    "    if d<=c.radius:\n",
    "        return True\n",
    "\n",
    "def rect_in_circle(Rectangle,Circle):\n",
    "    p = copy.copy(r.corner)\n",
    "    print_point(p)\n",
    "    if p == point_in_circle(p, circle):\n",
    "        return True\n",
    "\n",
    "    p.x += r.width\n",
    "    print_point(p)\n",
    "    if p.x == point_in_circle(p, circle):\n",
    "        return True\n",
    "\n",
    "    p.y -= r.height\n",
    "    print_point(p)\n",
    "    if p.y == point_in_circle(p, circle):\n",
    "        return True\n",
    "\n",
    "    p.x -= r.width\n",
    "    print_point(p)\n",
    "    if p.x == point_in_circle(p, circle):\n",
    "        return True\n"
   ]
  },
  {
   "cell_type": "markdown",
   "metadata": {},
   "source": [
    "##### Exercise 15.2. Write a function called draw_rect that takes a Turtle object and a Rectangle and uses the Turtle to draw the Rectangle. See Chapter 4 for examples using Turtle objects. Write a function called draw_circle that takes a Turtle and a Circle and draws the Circle. "
   ]
  },
  {
   "cell_type": "code",
   "execution_count": 35,
   "metadata": {},
   "outputs": [
    {
     "ename": "Terminator",
     "evalue": "",
     "output_type": "error",
     "traceback": [
      "\u001b[1;31m---------------------------------------------------------------------------\u001b[0m",
      "\u001b[1;31mTerminator\u001b[0m                                Traceback (most recent call last)",
      "\u001b[1;32m<ipython-input-35-2a1b5b6db8d3>\u001b[0m in \u001b[0;36m<module>\u001b[1;34m\u001b[0m\n\u001b[0;32m      8\u001b[0m         \u001b[0mbob\u001b[0m\u001b[1;33m.\u001b[0m\u001b[0mlt\u001b[0m\u001b[1;33m(\u001b[0m\u001b[1;36m90\u001b[0m\u001b[1;33m)\u001b[0m\u001b[1;33m\u001b[0m\u001b[1;33m\u001b[0m\u001b[0m\n\u001b[0;32m      9\u001b[0m \u001b[1;33m\u001b[0m\u001b[0m\n\u001b[1;32m---> 10\u001b[1;33m \u001b[0mturtle\u001b[0m\u001b[1;33m.\u001b[0m\u001b[0mmainloop\u001b[0m\u001b[1;33m(\u001b[0m\u001b[1;33m)\u001b[0m\u001b[1;33m\u001b[0m\u001b[1;33m\u001b[0m\u001b[0m\n\u001b[0m\u001b[0;32m     11\u001b[0m \u001b[1;33m\u001b[0m\u001b[0m\n",
      "\u001b[1;32mC:\\ProgramData\\Anaconda3\\lib\\turtle.py\u001b[0m in \u001b[0;36mmainloop\u001b[1;34m()\u001b[0m\n",
      "\u001b[1;31mTerminator\u001b[0m: "
     ]
    }
   ],
   "source": [
    "def draw_rect():\n",
    "    bob= turtle.Turtle()\n",
    "    print(bob)\n",
    "    for t in range(2):\n",
    "        bob.fd(100)\n",
    "        bob.lt(90)\n",
    "        bob.fd(200)\n",
    "        bob.lt(90)\n",
    "        \n",
    "turtle.mainloop()\n",
    "    "
   ]
  }
 ],
 "metadata": {
  "kernelspec": {
   "display_name": "Python 3",
   "language": "python",
   "name": "python3"
  },
  "language_info": {
   "codemirror_mode": {
    "name": "ipython",
    "version": 3
   },
   "file_extension": ".py",
   "mimetype": "text/x-python",
   "name": "python",
   "nbconvert_exporter": "python",
   "pygments_lexer": "ipython3",
   "version": "3.7.4"
  }
 },
 "nbformat": 4,
 "nbformat_minor": 2
}
